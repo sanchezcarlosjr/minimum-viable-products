{
  "nbformat": 4,
  "nbformat_minor": 0,
  "metadata": {
    "colab": {
      "name": "3. Interpolation and Polynomial Approximation - Numerical Analysis.ipynb",
      "provenance": [],
      "collapsed_sections": [],
      "include_colab_link": true
    },
    "kernelspec": {
      "name": "python3",
      "display_name": "Python 3"
    },
    "language_info": {
      "name": "python"
    }
  },
  "cells": [
    {
      "cell_type": "markdown",
      "metadata": {
        "id": "view-in-github",
        "colab_type": "text"
      },
      "source": [
        "<a href=\"https://colab.research.google.com/github/sanchezcarlosjr/minimum-viable-products/blob/main/3_Interpolation_and_Polynomial_Approximation_Numerical_Analysis.ipynb\" target=\"_parent\"><img src=\"https://colab.research.google.com/assets/colab-badge.svg\" alt=\"Open In Colab\"/></a>"
      ]
    },
    {
      "cell_type": "markdown",
      "source": [
        "# 3. Interpolation and Polynomial Approximation\n",
        "### Illustration\n",
        "\n",
        "By [Carlos Eduardo Sanchez Torres](https://twitter.com/CharllierJr)\n",
        "\n",
        "[Numerical analysis](https://www.notion.so/sanchezcarlosjr/Numerical-analysis-f774bbfddd834cf1beffda5e9e935ff8)\n",
        "\n",
        "Burden, Richard L., and J. Douglas Faires. Numerical Analysis. 7th ed. Belmont, CA: Brooks Cole, 2000. ISBN: 0534382169. Page 105"
      ],
      "metadata": {
        "id": "rXEiMHG_Ihuf"
      }
    },
    {
      "cell_type": "code",
      "execution_count": null,
      "metadata": {
        "id": "q8GvUplcITS9",
        "colab": {
          "base_uri": "https://localhost:8080/"
        },
        "outputId": "0449d563-5feb-4068-8cd2-5614f5a7c5f1"
      },
      "outputs": [
        {
          "output_type": "execute_result",
          "data": {
            "text/plain": [
              "0.7418999999999999"
            ]
          },
          "metadata": {},
          "execution_count": 5
        }
      ],
      "source": [
        "def interpolate(table: list, i=-1, j=-1) -> float:\n",
        "   \"\"\"\n",
        "    Interpolate v1 using Neville Method\n",
        "\n",
        "    :param table = [[x0, f(x0)], [x1, f(x1)], ... [xn, f(xn)]]\n",
        "   \"\"\"\n",
        "   if i==-1 and j==-1:\n",
        "      i = len(table)-1\n",
        "      j = i\n",
        "   if j == 0:\n",
        "     return table[i][1]\n",
        "   subProblem1=(2.1 - table[i-j][0])*interpolate(table, i, j-1) \n",
        "   subProblem2=(2.1 - table[i][0])*interpolate(table, i-1,j-1)\n",
        "   subProblems = subProblem1-subProblem2\n",
        "   diffX = (table[i][0]-table[i-j][0])\n",
        "   return subProblems/diffX\n",
        "\n",
        "interpolate([[2, 0.6931], [2.2, 0.7885], [2.3, 0.8329]])"
      ]
    },
    {
      "cell_type": "code",
      "source": [
        "def interpolate(table: list, i=-1, j=-1) -> float:\n",
        "   \"\"\"\n",
        "    Interpolate v2 using Neville Method and lambda calculus\n",
        "\n",
        "    :param table = [[x0, f(x0)], [x1, f(x1)], ... [xn, f(xn)]]\n",
        "   \"\"\"\n",
        "   if i==-1 and j==-1:\n",
        "      i = len(table)-1\n",
        "      j = i\n",
        "   if j == 0:\n",
        "     return lambda x: table[i][1] # f(xi)\n",
        "   subProblem1=lambda x: (x - table[i-j][0])*interpolate(table, i, j-1)(x) # (x-x_{i-j})Q_{i,j-1}-(x-x_i)Q_{i-1,j-1}\n",
        "   subProblem2=lambda x: (x - table[i][0])*interpolate(table, i-1,j-1)(x)\n",
        "   subProblems = lambda x: subProblem1(x)-subProblem2(x)\n",
        "   diffX = (table[i][0]-table[i-j][0]) # x_{i} - x_{i-j}\n",
        "   return lambda x: subProblems(x)/diffX\n",
        "\n",
        "Q = interpolate([[2, 0.6931], [2.2, 0.7885], [2.3, 0.8329]])\n",
        "Q"
      ],
      "metadata": {
        "colab": {
          "base_uri": "https://localhost:8080/"
        },
        "id": "RR95sUq8PQw1",
        "outputId": "4beba2e4-0c79-4d9a-eb64-5238a599e09e"
      },
      "execution_count": null,
      "outputs": [
        {
          "output_type": "execute_result",
          "data": {
            "text/plain": [
              "<function __main__.interpolate.<locals>.<lambda>>"
            ]
          },
          "metadata": {},
          "execution_count": 4
        }
      ]
    },
    {
      "cell_type": "code",
      "source": [
        "table = [[2, 0.6931], [2.2, 0.7885], [2.3, 0.8329]]\n",
        "f = interpolate(table)\n",
        "f(2.1)"
      ],
      "metadata": {
        "colab": {
          "base_uri": "https://localhost:8080/"
        },
        "id": "yS8xLz72aCCN",
        "outputId": "2e3c2448-e831-44ca-9c11-f10ea2db2c62"
      },
      "execution_count": null,
      "outputs": [
        {
          "output_type": "execute_result",
          "data": {
            "text/plain": [
              "0.7418999999999999"
            ]
          },
          "metadata": {},
          "execution_count": 6
        }
      ]
    },
    {
      "cell_type": "code",
      "source": [
        "import numpy as np\n",
        "def interpolate(table: list, x: float) -> float:\n",
        "   \"\"\"\n",
        "    Interpolate v3 using Neville Method and Dynamic Programming\n",
        "\n",
        "    :param table = [[x0, f(x0)], [x1, f(x1)], ... [xn, f(xn)]]\n",
        "   \"\"\"\n",
        "   n = len(table)\n",
        "   Q = np.zeros((n,n))\n",
        "   for i in range(0, n):\n",
        "     Q[i][0] = table[i][1] # f(xi)\n",
        "   for i in range(1, n):\n",
        "     for j in range(1, i+1):\n",
        "       QA=(x-table[i-j][0])*Q[i][j-1] \n",
        "       QB=(x-table[i][0])*Q[i-1][j-1]\n",
        "       diffX = (table[i][0]-table[i-j][0])\n",
        "       Q[i][j] = (QA-QB)/diffX\n",
        "   return Q\n",
        "interpolate([[2, 0.6931], [2.2, 0.7885], [2.3, 0.8329]],2.1)"
      ],
      "metadata": {
        "id": "fEClxQdbQ2pL",
        "colab": {
          "base_uri": "https://localhost:8080/"
        },
        "outputId": "faa6f20c-a787-4ddc-b61a-33246a89c4b3"
      },
      "execution_count": null,
      "outputs": [
        {
          "output_type": "execute_result",
          "data": {
            "text/plain": [
              "array([[0.6931, 0.    , 0.    ],\n",
              "       [0.7885, 0.7408, 0.    ],\n",
              "       [0.8329, 0.7441, 0.7419]])"
            ]
          },
          "metadata": {},
          "execution_count": 2
        }
      ]
    },
    {
      "cell_type": "code",
      "source": [
        "import pandas as pd\n",
        "pd.DataFrame(interpolate([[2, 0.6931], [2.2, 0.7885], [2.3, 0.8329]], 2.1))"
      ],
      "metadata": {
        "colab": {
          "base_uri": "https://localhost:8080/",
          "height": 143
        },
        "id": "0fs6AKyNGCRM",
        "outputId": "d5741170-3394-4809-e66d-08ec867c4c1c"
      },
      "execution_count": null,
      "outputs": [
        {
          "output_type": "execute_result",
          "data": {
            "text/plain": [
              "        0       1       2\n",
              "0  0.6931  0.0000  0.0000\n",
              "1  0.7885  0.7408  0.0000\n",
              "2  0.8329  0.7441  0.7419"
            ],
            "text/html": [
              "\n",
              "  <div id=\"df-de56990e-f604-42e9-8353-6392f02ab6b9\">\n",
              "    <div class=\"colab-df-container\">\n",
              "      <div>\n",
              "<style scoped>\n",
              "    .dataframe tbody tr th:only-of-type {\n",
              "        vertical-align: middle;\n",
              "    }\n",
              "\n",
              "    .dataframe tbody tr th {\n",
              "        vertical-align: top;\n",
              "    }\n",
              "\n",
              "    .dataframe thead th {\n",
              "        text-align: right;\n",
              "    }\n",
              "</style>\n",
              "<table border=\"1\" class=\"dataframe\">\n",
              "  <thead>\n",
              "    <tr style=\"text-align: right;\">\n",
              "      <th></th>\n",
              "      <th>0</th>\n",
              "      <th>1</th>\n",
              "      <th>2</th>\n",
              "    </tr>\n",
              "  </thead>\n",
              "  <tbody>\n",
              "    <tr>\n",
              "      <th>0</th>\n",
              "      <td>0.6931</td>\n",
              "      <td>0.0000</td>\n",
              "      <td>0.0000</td>\n",
              "    </tr>\n",
              "    <tr>\n",
              "      <th>1</th>\n",
              "      <td>0.7885</td>\n",
              "      <td>0.7408</td>\n",
              "      <td>0.0000</td>\n",
              "    </tr>\n",
              "    <tr>\n",
              "      <th>2</th>\n",
              "      <td>0.8329</td>\n",
              "      <td>0.7441</td>\n",
              "      <td>0.7419</td>\n",
              "    </tr>\n",
              "  </tbody>\n",
              "</table>\n",
              "</div>\n",
              "      <button class=\"colab-df-convert\" onclick=\"convertToInteractive('df-de56990e-f604-42e9-8353-6392f02ab6b9')\"\n",
              "              title=\"Convert this dataframe to an interactive table.\"\n",
              "              style=\"display:none;\">\n",
              "        \n",
              "  <svg xmlns=\"http://www.w3.org/2000/svg\" height=\"24px\"viewBox=\"0 0 24 24\"\n",
              "       width=\"24px\">\n",
              "    <path d=\"M0 0h24v24H0V0z\" fill=\"none\"/>\n",
              "    <path d=\"M18.56 5.44l.94 2.06.94-2.06 2.06-.94-2.06-.94-.94-2.06-.94 2.06-2.06.94zm-11 1L8.5 8.5l.94-2.06 2.06-.94-2.06-.94L8.5 2.5l-.94 2.06-2.06.94zm10 10l.94 2.06.94-2.06 2.06-.94-2.06-.94-.94-2.06-.94 2.06-2.06.94z\"/><path d=\"M17.41 7.96l-1.37-1.37c-.4-.4-.92-.59-1.43-.59-.52 0-1.04.2-1.43.59L10.3 9.45l-7.72 7.72c-.78.78-.78 2.05 0 2.83L4 21.41c.39.39.9.59 1.41.59.51 0 1.02-.2 1.41-.59l7.78-7.78 2.81-2.81c.8-.78.8-2.07 0-2.86zM5.41 20L4 18.59l7.72-7.72 1.47 1.35L5.41 20z\"/>\n",
              "  </svg>\n",
              "      </button>\n",
              "      \n",
              "  <style>\n",
              "    .colab-df-container {\n",
              "      display:flex;\n",
              "      flex-wrap:wrap;\n",
              "      gap: 12px;\n",
              "    }\n",
              "\n",
              "    .colab-df-convert {\n",
              "      background-color: #E8F0FE;\n",
              "      border: none;\n",
              "      border-radius: 50%;\n",
              "      cursor: pointer;\n",
              "      display: none;\n",
              "      fill: #1967D2;\n",
              "      height: 32px;\n",
              "      padding: 0 0 0 0;\n",
              "      width: 32px;\n",
              "    }\n",
              "\n",
              "    .colab-df-convert:hover {\n",
              "      background-color: #E2EBFA;\n",
              "      box-shadow: 0px 1px 2px rgba(60, 64, 67, 0.3), 0px 1px 3px 1px rgba(60, 64, 67, 0.15);\n",
              "      fill: #174EA6;\n",
              "    }\n",
              "\n",
              "    [theme=dark] .colab-df-convert {\n",
              "      background-color: #3B4455;\n",
              "      fill: #D2E3FC;\n",
              "    }\n",
              "\n",
              "    [theme=dark] .colab-df-convert:hover {\n",
              "      background-color: #434B5C;\n",
              "      box-shadow: 0px 1px 3px 1px rgba(0, 0, 0, 0.15);\n",
              "      filter: drop-shadow(0px 1px 2px rgba(0, 0, 0, 0.3));\n",
              "      fill: #FFFFFF;\n",
              "    }\n",
              "  </style>\n",
              "\n",
              "      <script>\n",
              "        const buttonEl =\n",
              "          document.querySelector('#df-de56990e-f604-42e9-8353-6392f02ab6b9 button.colab-df-convert');\n",
              "        buttonEl.style.display =\n",
              "          google.colab.kernel.accessAllowed ? 'block' : 'none';\n",
              "\n",
              "        async function convertToInteractive(key) {\n",
              "          const element = document.querySelector('#df-de56990e-f604-42e9-8353-6392f02ab6b9');\n",
              "          const dataTable =\n",
              "            await google.colab.kernel.invokeFunction('convertToInteractive',\n",
              "                                                     [key], {});\n",
              "          if (!dataTable) return;\n",
              "\n",
              "          const docLinkHtml = 'Like what you see? Visit the ' +\n",
              "            '<a target=\"_blank\" href=https://colab.research.google.com/notebooks/data_table.ipynb>data table notebook</a>'\n",
              "            + ' to learn more about interactive tables.';\n",
              "          element.innerHTML = '';\n",
              "          dataTable['output_type'] = 'display_data';\n",
              "          await google.colab.output.renderOutput(dataTable, element);\n",
              "          const docLink = document.createElement('div');\n",
              "          docLink.innerHTML = docLinkHtml;\n",
              "          element.appendChild(docLink);\n",
              "        }\n",
              "      </script>\n",
              "    </div>\n",
              "  </div>\n",
              "  "
            ]
          },
          "metadata": {},
          "execution_count": 5
        }
      ]
    },
    {
      "cell_type": "code",
      "source": [
        "import pandas as pd\n",
        "table = [\n",
        "         [0, -6],\n",
        "         [0.1, -5.89483],\n",
        "         [0.3, -5.65014],\n",
        "         [0.6, -5.17788],\n",
        "         [1, -4.28172],\n",
        "         [1.1, -3.99583]\n",
        "]\n",
        "matrix=interpolate(table, 0.41)\n",
        "pd.DataFrame(matrix)"
      ],
      "metadata": {
        "colab": {
          "base_uri": "https://localhost:8080/",
          "height": 238
        },
        "id": "wrAnNcgUEGOx",
        "outputId": "f5d99412-d97b-4d75-d26a-b04c55c2e2de"
      },
      "execution_count": null,
      "outputs": [
        {
          "output_type": "execute_result",
          "data": {
            "text/plain": [
              "         0         1         2         3        4         5\n",
              "0 -6.00000  0.000000  0.000000  0.000000  0.00000  0.000000\n",
              "1 -5.89483 -5.568803  0.000000  0.000000  0.00000  0.000000\n",
              "2 -5.65014 -5.515561 -5.496038  0.000000  0.00000  0.000000\n",
              "3 -5.17788 -5.476978 -5.491639 -5.493032  0.00000  0.000000\n",
              "4 -4.28172 -5.603556 -5.496869 -5.493441 -5.49320  0.000000\n",
              "5 -3.99583 -5.968471 -5.464888 -5.492472 -5.49314 -5.493178"
            ],
            "text/html": [
              "\n",
              "  <div id=\"df-37480a71-a3d5-40ce-9e3b-6680811f93be\">\n",
              "    <div class=\"colab-df-container\">\n",
              "      <div>\n",
              "<style scoped>\n",
              "    .dataframe tbody tr th:only-of-type {\n",
              "        vertical-align: middle;\n",
              "    }\n",
              "\n",
              "    .dataframe tbody tr th {\n",
              "        vertical-align: top;\n",
              "    }\n",
              "\n",
              "    .dataframe thead th {\n",
              "        text-align: right;\n",
              "    }\n",
              "</style>\n",
              "<table border=\"1\" class=\"dataframe\">\n",
              "  <thead>\n",
              "    <tr style=\"text-align: right;\">\n",
              "      <th></th>\n",
              "      <th>0</th>\n",
              "      <th>1</th>\n",
              "      <th>2</th>\n",
              "      <th>3</th>\n",
              "      <th>4</th>\n",
              "      <th>5</th>\n",
              "    </tr>\n",
              "  </thead>\n",
              "  <tbody>\n",
              "    <tr>\n",
              "      <th>0</th>\n",
              "      <td>-6.00000</td>\n",
              "      <td>0.000000</td>\n",
              "      <td>0.000000</td>\n",
              "      <td>0.000000</td>\n",
              "      <td>0.00000</td>\n",
              "      <td>0.000000</td>\n",
              "    </tr>\n",
              "    <tr>\n",
              "      <th>1</th>\n",
              "      <td>-5.89483</td>\n",
              "      <td>-5.568803</td>\n",
              "      <td>0.000000</td>\n",
              "      <td>0.000000</td>\n",
              "      <td>0.00000</td>\n",
              "      <td>0.000000</td>\n",
              "    </tr>\n",
              "    <tr>\n",
              "      <th>2</th>\n",
              "      <td>-5.65014</td>\n",
              "      <td>-5.515561</td>\n",
              "      <td>-5.496038</td>\n",
              "      <td>0.000000</td>\n",
              "      <td>0.00000</td>\n",
              "      <td>0.000000</td>\n",
              "    </tr>\n",
              "    <tr>\n",
              "      <th>3</th>\n",
              "      <td>-5.17788</td>\n",
              "      <td>-5.476978</td>\n",
              "      <td>-5.491639</td>\n",
              "      <td>-5.493032</td>\n",
              "      <td>0.00000</td>\n",
              "      <td>0.000000</td>\n",
              "    </tr>\n",
              "    <tr>\n",
              "      <th>4</th>\n",
              "      <td>-4.28172</td>\n",
              "      <td>-5.603556</td>\n",
              "      <td>-5.496869</td>\n",
              "      <td>-5.493441</td>\n",
              "      <td>-5.49320</td>\n",
              "      <td>0.000000</td>\n",
              "    </tr>\n",
              "    <tr>\n",
              "      <th>5</th>\n",
              "      <td>-3.99583</td>\n",
              "      <td>-5.968471</td>\n",
              "      <td>-5.464888</td>\n",
              "      <td>-5.492472</td>\n",
              "      <td>-5.49314</td>\n",
              "      <td>-5.493178</td>\n",
              "    </tr>\n",
              "  </tbody>\n",
              "</table>\n",
              "</div>\n",
              "      <button class=\"colab-df-convert\" onclick=\"convertToInteractive('df-37480a71-a3d5-40ce-9e3b-6680811f93be')\"\n",
              "              title=\"Convert this dataframe to an interactive table.\"\n",
              "              style=\"display:none;\">\n",
              "        \n",
              "  <svg xmlns=\"http://www.w3.org/2000/svg\" height=\"24px\"viewBox=\"0 0 24 24\"\n",
              "       width=\"24px\">\n",
              "    <path d=\"M0 0h24v24H0V0z\" fill=\"none\"/>\n",
              "    <path d=\"M18.56 5.44l.94 2.06.94-2.06 2.06-.94-2.06-.94-.94-2.06-.94 2.06-2.06.94zm-11 1L8.5 8.5l.94-2.06 2.06-.94-2.06-.94L8.5 2.5l-.94 2.06-2.06.94zm10 10l.94 2.06.94-2.06 2.06-.94-2.06-.94-.94-2.06-.94 2.06-2.06.94z\"/><path d=\"M17.41 7.96l-1.37-1.37c-.4-.4-.92-.59-1.43-.59-.52 0-1.04.2-1.43.59L10.3 9.45l-7.72 7.72c-.78.78-.78 2.05 0 2.83L4 21.41c.39.39.9.59 1.41.59.51 0 1.02-.2 1.41-.59l7.78-7.78 2.81-2.81c.8-.78.8-2.07 0-2.86zM5.41 20L4 18.59l7.72-7.72 1.47 1.35L5.41 20z\"/>\n",
              "  </svg>\n",
              "      </button>\n",
              "      \n",
              "  <style>\n",
              "    .colab-df-container {\n",
              "      display:flex;\n",
              "      flex-wrap:wrap;\n",
              "      gap: 12px;\n",
              "    }\n",
              "\n",
              "    .colab-df-convert {\n",
              "      background-color: #E8F0FE;\n",
              "      border: none;\n",
              "      border-radius: 50%;\n",
              "      cursor: pointer;\n",
              "      display: none;\n",
              "      fill: #1967D2;\n",
              "      height: 32px;\n",
              "      padding: 0 0 0 0;\n",
              "      width: 32px;\n",
              "    }\n",
              "\n",
              "    .colab-df-convert:hover {\n",
              "      background-color: #E2EBFA;\n",
              "      box-shadow: 0px 1px 2px rgba(60, 64, 67, 0.3), 0px 1px 3px 1px rgba(60, 64, 67, 0.15);\n",
              "      fill: #174EA6;\n",
              "    }\n",
              "\n",
              "    [theme=dark] .colab-df-convert {\n",
              "      background-color: #3B4455;\n",
              "      fill: #D2E3FC;\n",
              "    }\n",
              "\n",
              "    [theme=dark] .colab-df-convert:hover {\n",
              "      background-color: #434B5C;\n",
              "      box-shadow: 0px 1px 3px 1px rgba(0, 0, 0, 0.15);\n",
              "      filter: drop-shadow(0px 1px 2px rgba(0, 0, 0, 0.3));\n",
              "      fill: #FFFFFF;\n",
              "    }\n",
              "  </style>\n",
              "\n",
              "      <script>\n",
              "        const buttonEl =\n",
              "          document.querySelector('#df-37480a71-a3d5-40ce-9e3b-6680811f93be button.colab-df-convert');\n",
              "        buttonEl.style.display =\n",
              "          google.colab.kernel.accessAllowed ? 'block' : 'none';\n",
              "\n",
              "        async function convertToInteractive(key) {\n",
              "          const element = document.querySelector('#df-37480a71-a3d5-40ce-9e3b-6680811f93be');\n",
              "          const dataTable =\n",
              "            await google.colab.kernel.invokeFunction('convertToInteractive',\n",
              "                                                     [key], {});\n",
              "          if (!dataTable) return;\n",
              "\n",
              "          const docLinkHtml = 'Like what you see? Visit the ' +\n",
              "            '<a target=\"_blank\" href=https://colab.research.google.com/notebooks/data_table.ipynb>data table notebook</a>'\n",
              "            + ' to learn more about interactive tables.';\n",
              "          element.innerHTML = '';\n",
              "          dataTable['output_type'] = 'display_data';\n",
              "          await google.colab.output.renderOutput(dataTable, element);\n",
              "          const docLink = document.createElement('div');\n",
              "          docLink.innerHTML = docLinkHtml;\n",
              "          element.appendChild(docLink);\n",
              "        }\n",
              "      </script>\n",
              "    </div>\n",
              "  </div>\n",
              "  "
            ]
          },
          "metadata": {},
          "execution_count": 4
        }
      ]
    },
    {
      "cell_type": "code",
      "source": [
        "import matplotlib.pyplot as plt\n",
        "x=np.array(table)[:,0]\n",
        "y=np.array(table)[:,1]\n",
        "plt.style.use('seaborn-poster')\n",
        "x_new = np.arange(0.1, 3.1, 0.1)\n",
        "\n",
        "fig = plt.figure(figsize = (10,8))\n",
        "plt.plot(x_new, f(x_new), 'b', x, y, 'ro')\n",
        "plt.plot(x_new, np.log(x_new), 'b', 'ro')\n",
        "plt.title('Lagrange Polynomial')\n",
        "plt.grid()\n",
        "plt.xlabel('x')\n",
        "plt.ylabel('y')\n",
        "plt.show()"
      ],
      "metadata": {
        "colab": {
          "base_uri": "https://localhost:8080/",
          "height": 538
        },
        "id": "ggND1jE9aB8t",
        "outputId": "6bb8e517-1a20-4174-c06b-60608a445280"
      },
      "execution_count": null,
      "outputs": [
        {
          "output_type": "display_data",
          "data": {
            "text/plain": [
              "<Figure size 720x576 with 1 Axes>"
            ],
            "image/png": "[encoded data removed]"
          },
          "metadata": {
            "needs_background": "light"
          }
        }
      ]
    },
    {
      "cell_type": "code",
      "source": [
        "census_of_the_population_of_united_states = [\n",
        "        [1950, 151326],\n",
        "        [1960, 179323],\n",
        "        [1970, 226542],\n",
        "        [1980, 249542],\n",
        "        [1990, 281422],\n",
        "        [2000, 281422]\n",
        "]\n",
        "\n",
        "interpolate(census_of_the_population_of_united_states)"
      ],
      "metadata": {
        "id": "5juGZl24MBJY",
        "colab": {
          "base_uri": "https://localhost:8080/"
        },
        "outputId": "6486d982-3624-4f66-b397-bc9723dc3dfe"
      },
      "execution_count": null,
      "outputs": [
        {
          "output_type": "execute_result",
          "data": {
            "text/plain": [
              "374636405667648.0"
            ]
          },
          "metadata": {},
          "execution_count": 6
        }
      ]
    }
  ]
}