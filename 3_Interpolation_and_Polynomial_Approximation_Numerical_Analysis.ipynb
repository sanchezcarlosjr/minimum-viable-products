{
 "cells": [
  {
   "cell_type": "raw",
   "metadata": {},
   "source": [
    "---\n",
    "title: Interpolation\n",
    "description: Numerical Analysis. 3. Interpolation and Polynomial Approximation\n",
    "show-code: False\n",
    "author: Carlos Eduardo Sanchez Torres\n",
    "params:\n",
    "    data:\n",
    "        input: text\n",
    "        label: Data\n",
    "        value: \"x y\\n2 0.6931\\n2.2 0.7885\\n2.3 0.8329\"\n",
    "        rows: 5\n",
    "    interpolating_value:\n",
    "       input: text\n",
    "       label: Interpolate or extrapolate a value\n",
    "       value: 2.1\n",
    "       rows: 2\n",
    "---"
   ]
  },
  {
   "cell_type": "markdown",
   "metadata": {
    "id": "rXEiMHG_Ihuf"
   },
   "source": [
    "# 3. Interpolation and Polynomial Approximation\n",
    "### Illustration\n",
    "\n",
    "By [Carlos Eduardo Sanchez Torres](https://twitter.com/CharllierJr)\n",
    "\n",
    "[Numerical analysis](https://www.notion.so/sanchezcarlosjr/Numerical-analysis-f774bbfddd834cf1beffda5e9e935ff8)\n",
    "[Code](https://github.com/sanchezcarlosjr/minimum-viable-products/blob/main/3_Interpolation_and_Polynomial_Approximation_Numerical_Analysis.ipynb)\n",
    "\n",
    "Burden, Richard L., and J. Douglas Faires. Numerical Analysis. 7th ed. Belmont, CA: Brooks Cole, 2000. ISBN: 0534382169. Page 105"
   ]
  },
  {
   "cell_type": "code",
   "execution_count": 161,
   "metadata": {},
   "outputs": [],
   "source": [
    "data = \"\"\"x y\n",
    "2 0.6931\n",
    "2.2 0.7885\n",
    "2.3 0.8329\n",
    "\"\"\""
   ]
  },
  {
   "cell_type": "code",
   "execution_count": 162,
   "metadata": {},
   "outputs": [],
   "source": [
    "interpolating_value = \"2.1\""
   ]
  },
  {
   "cell_type": "code",
   "execution_count": 163,
   "metadata": {},
   "outputs": [],
   "source": [
    "value = float(interpolating_value)"
   ]
  },
  {
   "cell_type": "code",
   "execution_count": 164,
   "metadata": {},
   "outputs": [],
   "source": [
    "table=list(map(lambda row: list(map(lambda column: float(column), row.split(\" \"))), data.split(\"\\n\")[1:][:-1]))"
   ]
  },
  {
   "cell_type": "code",
   "execution_count": 165,
   "metadata": {
    "colab": {
     "base_uri": "https://localhost:8080/"
    },
    "id": "RR95sUq8PQw1",
    "outputId": "4beba2e4-0c79-4d9a-eb64-5238a599e09e"
   },
   "outputs": [],
   "source": [
    "def interpolate(table: list, i=-1, j=-1) -> float:\n",
    "   \"\"\"\n",
    "    Interpolate v2 using Neville Method and lambda calculus\n",
    "\n",
    "    :param table = [[x0, f(x0)], [x1, f(x1)], ... [xn, f(xn)]]\n",
    "   \"\"\"\n",
    "   if i==-1 and j==-1:\n",
    "      i = len(table)-1\n",
    "      j = i\n",
    "   if j == 0:\n",
    "     return lambda x: table[i][1] # f(xi)\n",
    "   subProblem1=lambda x: (x - table[i-j][0])*interpolate(table, i, j-1)(x) # (x-x_{i-j})Q_{i,j-1}-(x-x_i)Q_{i-1,j-1}\n",
    "   subProblem2=lambda x: (x - table[i][0])*interpolate(table, i-1,j-1)(x)\n",
    "   subProblems = lambda x: subProblem1(x)-subProblem2(x)\n",
    "   diffX = (table[i][0]-table[i-j][0]) # x_{i} - x_{i-j}\n",
    "   return lambda x: subProblems(x)/diffX"
   ]
  },
  {
   "cell_type": "code",
   "execution_count": 166,
   "metadata": {
    "colab": {
     "base_uri": "https://localhost:8080/"
    },
    "id": "fEClxQdbQ2pL",
    "outputId": "faa6f20c-a787-4ddc-b61a-33246a89c4b3"
   },
   "outputs": [],
   "source": [
    "import numpy as np\n",
    "def show_table_interpolating_values(table: list, x: float) -> float:\n",
    "   \"\"\"\n",
    "    Interpolate v3 using Neville Method and Dynamic Programming\n",
    "\n",
    "    :param table = [[x0, f(x0)], [x1, f(x1)], ... [xn, f(xn)]]\n",
    "   \"\"\"\n",
    "   n = len(table)\n",
    "   Q = np.zeros((n,n))\n",
    "   for i in range(0, n):\n",
    "     Q[i][0] = table[i][1] # f(xi)\n",
    "   for i in range(1, n):\n",
    "     for j in range(1, i+1):\n",
    "       QA=(x-table[i-j][0])*Q[i][j-1] \n",
    "       QB=(x-table[i][0])*Q[i-1][j-1]\n",
    "       diffX = (table[i][0]-table[i-j][0])\n",
    "       Q[i][j] = (QA-QB)/diffX\n",
    "   return Q"
   ]
  },
  {
   "cell_type": "markdown",
   "metadata": {},
   "source": [
    "# Neville Method matrix"
   ]
  },
  {
   "cell_type": "code",
   "execution_count": 167,
   "metadata": {
    "colab": {
     "base_uri": "https://localhost:8080/",
     "height": 238
    },
    "id": "wrAnNcgUEGOx",
    "outputId": "f5d99412-d97b-4d75-d26a-b04c55c2e2de"
   },
   "outputs": [
    {
     "data": {
      "text/html": [
       "<div>\n",
       "<style scoped>\n",
       "    .dataframe tbody tr th:only-of-type {\n",
       "        vertical-align: middle;\n",
       "    }\n",
       "\n",
       "    .dataframe tbody tr th {\n",
       "        vertical-align: top;\n",
       "    }\n",
       "\n",
       "    .dataframe thead th {\n",
       "        text-align: right;\n",
       "    }\n",
       "</style>\n",
       "<table border=\"1\" class=\"dataframe\">\n",
       "  <thead>\n",
       "    <tr style=\"text-align: right;\">\n",
       "      <th></th>\n",
       "      <th>0</th>\n",
       "      <th>1</th>\n",
       "      <th>2</th>\n",
       "    </tr>\n",
       "  </thead>\n",
       "  <tbody>\n",
       "    <tr>\n",
       "      <th>0</th>\n",
       "      <td>0.6931</td>\n",
       "      <td>0.0000</td>\n",
       "      <td>0.0000</td>\n",
       "    </tr>\n",
       "    <tr>\n",
       "      <th>1</th>\n",
       "      <td>0.7885</td>\n",
       "      <td>0.7408</td>\n",
       "      <td>0.0000</td>\n",
       "    </tr>\n",
       "    <tr>\n",
       "      <th>2</th>\n",
       "      <td>0.8329</td>\n",
       "      <td>0.7441</td>\n",
       "      <td>0.7419</td>\n",
       "    </tr>\n",
       "  </tbody>\n",
       "</table>\n",
       "</div>"
      ],
      "text/plain": [
       "        0       1       2\n",
       "0  0.6931  0.0000  0.0000\n",
       "1  0.7885  0.7408  0.0000\n",
       "2  0.8329  0.7441  0.7419"
      ]
     },
     "execution_count": 167,
     "metadata": {},
     "output_type": "execute_result"
    }
   ],
   "source": [
    "import pandas as pd\n",
    "pd.DataFrame(show_table_interpolating_values(table, value))"
   ]
  },
  {
   "cell_type": "markdown",
   "metadata": {},
   "source": [
    "# Interpolating value"
   ]
  },
  {
   "cell_type": "code",
   "execution_count": 175,
   "metadata": {},
   "outputs": [
    {
     "name": "stdout",
     "output_type": "stream",
     "text": [
      "Q(2.1)=0.7418999999999999\n"
     ]
    }
   ],
   "source": [
    "Q = interpolate(table)\n",
    "print(f\"Q({value})={Q(value)}\")"
   ]
  },
  {
   "cell_type": "markdown",
   "metadata": {},
   "source": [
    "# Lagrange Polynomial Plot"
   ]
  },
  {
   "cell_type": "code",
   "execution_count": 169,
   "metadata": {
    "colab": {
     "base_uri": "https://localhost:8080/",
     "height": 538
    },
    "id": "ggND1jE9aB8t",
    "outputId": "6bb8e517-1a20-4174-c06b-60608a445280"
   },
   "outputs": [
    {
     "data": {
      "image/png": "[encoded data removed]",
      "text/plain": [
       "<Figure size 720x576 with 1 Axes>"
      ]
     },
     "metadata": {
      "needs_background": "light"
     },
     "output_type": "display_data"
    }
   ],
   "source": [
    "import matplotlib.pyplot as plt\n",
    "x=np.array(table)[:,0]\n",
    "y=np.array(table)[:,1]\n",
    "plt.style.use('seaborn-poster')\n",
    "x_new = np.arange(0.1, 3.1, 0.1)\n",
    "\n",
    "fig = plt.figure(figsize = (10,8))\n",
    "plt.scatter(x,y, label=\"Data\")\n",
    "plt.scatter(value, Q(value), label=\"Interpolating value\")\n",
    "plt.plot(x_new, Q(x_new), 'b', label=\"Lagrange Polynomial Q(x)\")\n",
    "plt.title('Lagrange Polynomial')\n",
    "plt.grid()\n",
    "plt.xlabel('x')\n",
    "plt.ylabel('y')\n",
    "plt.legend(loc=\"upper left\")\n",
    "plt.ylim(-1.5, 2.0)\n",
    "plt.show()"
   ]
  }
 ],
 "metadata": {
  "colab": {
   "collapsed_sections": [],
   "include_colab_link": true,
   "name": "3. Interpolation and Polynomial Approximation - Numerical Analysis.ipynb",
   "provenance": []
  },
  "kernelspec": {
   "display_name": "Python 3 (ipykernel)",
   "language": "python",
   "name": "python3"
  },
  "language_info": {
   "codemirror_mode": {
    "name": "ipython",
    "version": 3
   },
   "file_extension": ".py",
   "mimetype": "text/x-python",
   "name": "python",
   "nbconvert_exporter": "python",
   "pygments_lexer": "ipython3",
   "version": "3.10.4"
  }
 },
 "nbformat": 4,
 "nbformat_minor": 1
}
