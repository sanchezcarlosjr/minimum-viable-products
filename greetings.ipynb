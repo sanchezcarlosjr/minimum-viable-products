{
 "cells": [
  {
   "cell_type": "code",
   "execution_count": null,
   "metadata": {},
   "outputs": [],
   "source": [
    "---\n",
    "title: My app\n",
    "description: My first notebook shared on Mercury\n",
    "params:\n",
    "    greetings:\n",
    "        input: select\n",
    "        label: Select greetings\n",
    "        value: Cześć\n",
    "        choices: [Cześć, Hello, Hi, Salut, Ciao]\n",
    "    year:\n",
    "        input: slider\n",
    "        label: Select year\n",
    "        value: 2022\n",
    "        min: 2021\n",
    "        max: 2030\n",
    "---"
   ]
  },
  {
   "cell_type": "code",
   "execution_count": 1,
   "metadata": {},
   "outputs": [],
   "source": [
    "greetings = \"Cześć\"\n",
    "year = 2022"
   ]
  },
  {
   "cell_type": "code",
   "execution_count": 2,
   "metadata": {},
   "outputs": [
    {
     "name": "stdout",
     "output_type": "stream",
     "text": [
      "Cześć 2022\n"
     ]
    }
   ],
   "source": [
    "print(f\"{greetings} {year}\")"
   ]
  }
 ],
 "metadata": {
  "kernelspec": {
   "display_name": "simple_venv",
   "language": "python",
   "name": "simple_venv"
  },
  "language_info": {
   "codemirror_mode": {
    "name": "ipython",
    "version": 3
   },
   "file_extension": ".py",
   "mimetype": "text/x-python",
   "name": "python",
   "nbconvert_exporter": "python",
   "pygments_lexer": "ipython3",
   "version": "3.8.10"
  }
 },
 "nbformat": 4,
 "nbformat_minor": 4
}
